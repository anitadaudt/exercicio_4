{
 "cells": [
  {
   "cell_type": "code",
   "execution_count": null,
   "id": "9fff346b-0dec-4307-9d6f-7cf26d65a7ad",
   "metadata": {},
   "outputs": [],
   "source": [
    "\"\"\"\n",
    "Exercício 4\n",
    "Autor: Anita Daudt\n",
    "Data: 27/02/2025\n",
    "Versão 0.0.1\n",
    "\"\"\""
   ]
  },
  {
   "cell_type": "code",
   "execution_count": 2,
   "id": "8dbb9a43-b5a3-44c3-840e-409309ecbbf1",
   "metadata": {},
   "outputs": [],
   "source": [
    "# Alocação de memória: \n",
    "\n",
    "nome: \"\""
   ]
  },
  {
   "cell_type": "code",
   "execution_count": 4,
   "id": "71dc7efa-1d3e-4381-b95d-cc1661d25e52",
   "metadata": {},
   "outputs": [
    {
     "name": "stdin",
     "output_type": "stream",
     "text": [
      "Qual é o seu nome?  Anita\n"
     ]
    }
   ],
   "source": [
    "# Entrada de dados: \n",
    "\n",
    "nome = input(\"Qual é o seu nome? \")"
   ]
  },
  {
   "cell_type": "code",
   "execution_count": 6,
   "id": "4a6ddb14-85e9-48b6-8807-fdc49087140f",
   "metadata": {},
   "outputs": [],
   "source": [
    "# Processamento de dados:"
   ]
  },
  {
   "cell_type": "code",
   "execution_count": 12,
   "id": "3389edc8-43fb-4b4b-b6e3-7b30e7404cb1",
   "metadata": {},
   "outputs": [
    {
     "name": "stdout",
     "output_type": "stream",
     "text": [
      "Oi, Anita!\n"
     ]
    }
   ],
   "source": [
    "# Saída de dados: \n",
    "\n",
    "print(f\"Oi, {nome}!\")"
   ]
  }
 ],
 "metadata": {
  "kernelspec": {
   "display_name": "Python [conda env:anaconda 2]",
   "language": "python",
   "name": "conda-env-anaconda_2-py"
  },
  "language_info": {
   "codemirror_mode": {
    "name": "ipython",
    "version": 3
   },
   "file_extension": ".py",
   "mimetype": "text/x-python",
   "name": "python",
   "nbconvert_exporter": "python",
   "pygments_lexer": "ipython3",
   "version": "3.12.7"
  }
 },
 "nbformat": 4,
 "nbformat_minor": 5
}
